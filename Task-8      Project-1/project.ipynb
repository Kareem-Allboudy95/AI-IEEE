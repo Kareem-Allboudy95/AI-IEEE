{
 "cells": [
  {
   "cell_type": "code",
   "execution_count": 1,
   "id": "31890d2e",
   "metadata": {},
   "outputs": [],
   "source": [
    "import pandas as pd"
   ]
  },
  {
   "cell_type": "code",
   "execution_count": 2,
   "id": "963f9195",
   "metadata": {},
   "outputs": [],
   "source": [
    "# Load data into a DataFrame\n",
    "df = pd.read_csv('F:\\\\Kareem\\\\AI\\\\IEEE\\\\Project-1\\\\new_york_city.csv')"
   ]
  },
  {
   "cell_type": "code",
   "execution_count": 3,
   "id": "b87783c6",
   "metadata": {},
   "outputs": [],
   "source": [
    "# Convert 'Start Time' column to datetime format\n",
    "df['Start Time'] = pd.to_datetime(df['Start Time'])"
   ]
  },
  {
   "cell_type": "code",
   "execution_count": 4,
   "id": "596d8bab",
   "metadata": {},
   "outputs": [
    {
     "name": "stdout",
     "output_type": "stream",
     "text": [
      "6\n",
      "Wednesday\n",
      "17\n"
     ]
    }
   ],
   "source": [
    "# Extract information for popular times of travel\n",
    "most_common_month = df['Start Time'].dt.month.mode()[0]\n",
    "most_common_day = df['Start Time'].dt.day_name().mode()[0]\n",
    "most_common_hour = df['Start Time'].dt.hour.mode()[0]\n",
    "print(most_common_month)\n",
    "print(most_common_day)\n",
    "print(most_common_hour)"
   ]
  },
  {
   "cell_type": "code",
   "execution_count": 5,
   "id": "62578886",
   "metadata": {},
   "outputs": [
    {
     "name": "stdout",
     "output_type": "stream",
     "text": [
      "Pershing Square North\n",
      "Pershing Square North\n",
      "('E 7 St & Avenue A', 'Cooper Square & E 7 St')\n"
     ]
    }
   ],
   "source": [
    "# Extract information for popular stations and trip\n",
    "most_common_start_station = df['Start Station'].mode()[0]\n",
    "most_common_end_station = df['End Station'].mode()[0]\n",
    "most_common_trip = df.groupby(['Start Station', 'End Station']).size().idxmax()\n",
    "print(most_common_start_station)\n",
    "print(most_common_end_station)\n",
    "print(most_common_trip)"
   ]
  },
  {
   "cell_type": "code",
   "execution_count": 6,
   "id": "fe067b60",
   "metadata": {},
   "outputs": [
    {
     "name": "stdout",
     "output_type": "stream",
     "text": [
      "74973 hours,40 minutes,48 seconds\n",
      "269905248\n",
      "899.68416\n"
     ]
    }
   ],
   "source": [
    "# Extract information for trip duration\n",
    "total_travel_time = int(df['Trip Duration'].sum())\n",
    "average_travel_time = df['Trip Duration'].mean()\n",
    "total_travel_time\n",
    "print(\"{} hours,{} minutes,{} seconds\".format(total_travel_time//3600,total_travel_time//60%60,total_travel_time%60))\n",
    "print(total_travel_time)\n",
    "print(average_travel_time)"
   ]
  },
  {
   "cell_type": "code",
   "execution_count": 7,
   "id": "9d2c5135",
   "metadata": {},
   "outputs": [
    {
     "name": "stdout",
     "output_type": "stream",
     "text": [
      "Subscriber    269149\n",
      "Customer       30159\n",
      "Name: User Type, dtype: int64\n"
     ]
    }
   ],
   "source": [
    "# Extract information for user types\n",
    "user_type_counts = df['User Type'].value_counts()\n",
    "print(user_type_counts)"
   ]
  },
  {
   "cell_type": "code",
   "execution_count": 8,
   "id": "4f77eb49",
   "metadata": {},
   "outputs": [],
   "source": [
    "# Extract information for gender\n",
    "if 'Gender' in df.columns:\n",
    "    gender_counts = df['Gender'].value_counts()\n",
    "else:\n",
    "    gender_counts = \"Gender information is not available for this dataset.\""
   ]
  },
  {
   "cell_type": "code",
   "execution_count": 9,
   "id": "b82b8739",
   "metadata": {},
   "outputs": [],
   "source": [
    "# Extract information for birth year\n",
    "if 'Birth Year' in df.columns:\n",
    "    earliest_birth_year = df['Birth Year'].min()\n",
    "    most_recent_birth_year = df['Birth Year'].max()\n",
    "    most_common_birth_year = df['Birth Year'].mode()[0]\n",
    "else:\n",
    "    earliest_birth_year = \"Birth year information is not available for this dataset.\"\n",
    "    most_recent_birth_year = \"Birth year information is not available for this dataset.\"\n",
    "    most_common_birth_year = \"Birth year information is not available for this dataset.\""
   ]
  },
  {
   "cell_type": "code",
   "execution_count": null,
   "id": "0c51e6f8",
   "metadata": {},
   "outputs": [],
   "source": []
  }
 ],
 "metadata": {
  "kernelspec": {
   "display_name": "Python 3 (ipykernel)",
   "language": "python",
   "name": "python3"
  },
  "language_info": {
   "codemirror_mode": {
    "name": "ipython",
    "version": 3
   },
   "file_extension": ".py",
   "mimetype": "text/x-python",
   "name": "python",
   "nbconvert_exporter": "python",
   "pygments_lexer": "ipython3",
   "version": "3.10.10"
  }
 },
 "nbformat": 4,
 "nbformat_minor": 5
}
