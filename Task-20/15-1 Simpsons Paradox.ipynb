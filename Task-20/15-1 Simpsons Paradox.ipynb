{
 "cells": [
  {
   "cell_type": "markdown",
   "metadata": {
    "collapsed": true
   },
   "source": [
    "# Simpson's Paradox\n",
    "Use `admission_data.csv` for this exercise."
   ]
  },
  {
   "cell_type": "code",
   "execution_count": 1,
   "metadata": {},
   "outputs": [
    {
     "data": {
      "text/html": [
       "<div>\n",
       "<style scoped>\n",
       "    .dataframe tbody tr th:only-of-type {\n",
       "        vertical-align: middle;\n",
       "    }\n",
       "\n",
       "    .dataframe tbody tr th {\n",
       "        vertical-align: top;\n",
       "    }\n",
       "\n",
       "    .dataframe thead th {\n",
       "        text-align: right;\n",
       "    }\n",
       "</style>\n",
       "<table border=\"1\" class=\"dataframe\">\n",
       "  <thead>\n",
       "    <tr style=\"text-align: right;\">\n",
       "      <th></th>\n",
       "      <th>student_id</th>\n",
       "      <th>gender</th>\n",
       "      <th>major</th>\n",
       "      <th>admitted</th>\n",
       "    </tr>\n",
       "  </thead>\n",
       "  <tbody>\n",
       "    <tr>\n",
       "      <th>0</th>\n",
       "      <td>35377</td>\n",
       "      <td>female</td>\n",
       "      <td>Chemistry</td>\n",
       "      <td>False</td>\n",
       "    </tr>\n",
       "    <tr>\n",
       "      <th>1</th>\n",
       "      <td>56105</td>\n",
       "      <td>male</td>\n",
       "      <td>Physics</td>\n",
       "      <td>True</td>\n",
       "    </tr>\n",
       "    <tr>\n",
       "      <th>2</th>\n",
       "      <td>31441</td>\n",
       "      <td>female</td>\n",
       "      <td>Chemistry</td>\n",
       "      <td>False</td>\n",
       "    </tr>\n",
       "    <tr>\n",
       "      <th>3</th>\n",
       "      <td>51765</td>\n",
       "      <td>male</td>\n",
       "      <td>Physics</td>\n",
       "      <td>True</td>\n",
       "    </tr>\n",
       "    <tr>\n",
       "      <th>4</th>\n",
       "      <td>53714</td>\n",
       "      <td>female</td>\n",
       "      <td>Physics</td>\n",
       "      <td>True</td>\n",
       "    </tr>\n",
       "  </tbody>\n",
       "</table>\n",
       "</div>"
      ],
      "text/plain": [
       "   student_id  gender      major  admitted\n",
       "0       35377  female  Chemistry     False\n",
       "1       56105    male    Physics      True\n",
       "2       31441  female  Chemistry     False\n",
       "3       51765    male    Physics      True\n",
       "4       53714  female    Physics      True"
      ]
     },
     "execution_count": 1,
     "metadata": {},
     "output_type": "execute_result"
    }
   ],
   "source": [
    "import pandas as pd\n",
    "dt =pd.read_csv('admission_data.csv')\n",
    "dt.head()"
   ]
  },
  {
   "cell_type": "markdown",
   "metadata": {},
   "source": [
    "### Proportion and admission rate for each gender"
   ]
  },
  {
   "cell_type": "code",
   "execution_count": 10,
   "metadata": {},
   "outputs": [
    {
     "name": "stdout",
     "output_type": "stream",
     "text": [
      "51.4 %\n"
     ]
    }
   ],
   "source": [
    "# Proportion of students that are female\n",
    "total_students = dt.shape[0]\n",
    "female_students = dt[dt['gender'] == 'female'].shape[0]\n",
    "proportion_female = female_students * 100 / total_students \n",
    "print(proportion_female, \"%\")"
   ]
  },
  {
   "cell_type": "code",
   "execution_count": 11,
   "metadata": {},
   "outputs": [
    {
     "name": "stdout",
     "output_type": "stream",
     "text": [
      "48.6 %\n"
     ]
    }
   ],
   "source": [
    "# Proportion of students that are male\n",
    "male_students = dt[dt['gender'] == 'male'].shape[0]\n",
    "proportion_male = male_students * 100 / total_students\n",
    "print(proportion_male, \"%\")"
   ]
  },
  {
   "cell_type": "code",
   "execution_count": 12,
   "metadata": {},
   "outputs": [
    {
     "name": "stdout",
     "output_type": "stream",
     "text": [
      "28.79377431906615 %\n"
     ]
    }
   ],
   "source": [
    "# Admission rate for females\n",
    "female_admitted = dt[(dt['gender'] == 'female') & (dt['admitted'] == True)].shape[0]\n",
    "admission_rate_female = female_admitted * 100 / female_students\n",
    "print(admission_rate_female, \"%\")"
   ]
  },
  {
   "cell_type": "code",
   "execution_count": 13,
   "metadata": {},
   "outputs": [
    {
     "name": "stdout",
     "output_type": "stream",
     "text": [
      "48.559670781893004 %\n"
     ]
    }
   ],
   "source": [
    "# Admission rate for males\n",
    "male_admitted = dt[(dt['gender'] == 'male') & (dt['admitted'] == True)].shape[0]\n",
    "admission_rate_male = male_admitted * 100 / male_students\n",
    "print(admission_rate_male, \"%\")"
   ]
  },
  {
   "cell_type": "markdown",
   "metadata": {},
   "source": [
    "### Proportion and admission rate for physics majors of each gender"
   ]
  },
  {
   "cell_type": "code",
   "execution_count": 18,
   "metadata": {},
   "outputs": [
    {
     "name": "stdout",
     "output_type": "stream",
     "text": [
      "6.2 %\n"
     ]
    }
   ],
   "source": [
    "# What proportion of females students are majoring in physics?\n",
    "total_students = dt.shape[0]\n",
    "female_physics_students = dt[(dt['gender'] == 'female') & (dt['major'] == 'Physics')].shape[0]\n",
    "proportion_female_physics = female_physics_students * 100 / total_students\n",
    "print(proportion_female_physics, \"%\")"
   ]
  },
  {
   "cell_type": "code",
   "execution_count": 19,
   "metadata": {},
   "outputs": [
    {
     "name": "stdout",
     "output_type": "stream",
     "text": [
      "45.0 %\n"
     ]
    }
   ],
   "source": [
    "# What proportion of male students are majoring in physics?\n",
    "male_physics_students = dt[(dt['gender'] == 'male') & (dt['major'] == 'Physics')].shape[0]\n",
    "proportion_male_physics = male_physics_students * 100 / total_students\n",
    "print(proportion_male_physics, \"%\")"
   ]
  },
  {
   "cell_type": "code",
   "execution_count": 20,
   "metadata": {},
   "outputs": [
    {
     "name": "stdout",
     "output_type": "stream",
     "text": [
      "74.19354838709677 %\n"
     ]
    }
   ],
   "source": [
    "# Admission rate for female physics majors\n",
    "female_physics_admitted = dt[(dt['gender'] == 'female') & (dt['major'] == 'Physics') & (dt['admitted'] == True)].shape[0]\n",
    "admission_rate_female_physics = female_physics_admitted * 100 / female_physics_students\n",
    "print(admission_rate_female_physics, \"%\")"
   ]
  },
  {
   "cell_type": "code",
   "execution_count": 21,
   "metadata": {},
   "outputs": [
    {
     "name": "stdout",
     "output_type": "stream",
     "text": [
      "51.55555555555556 %\n"
     ]
    }
   ],
   "source": [
    "# Admission rate for male physics majors\n",
    "male_physics_admitted = dt[(dt['gender'] == 'male') & (dt['major'] == 'Physics') & (dt['admitted'] == True)].shape[0]\n",
    "admission_rate_male_physics = male_physics_admitted * 100 / male_physics_students\n",
    "print(admission_rate_male_physics, \"%\")"
   ]
  },
  {
   "cell_type": "markdown",
   "metadata": {},
   "source": [
    "### Proportion and admission rate for chemistry majors of each gender"
   ]
  },
  {
   "cell_type": "code",
   "execution_count": 26,
   "metadata": {},
   "outputs": [
    {
     "name": "stdout",
     "output_type": "stream",
     "text": [
      "45.2 %\n"
     ]
    }
   ],
   "source": [
    "# What proportion of female students are majoring in chemistry?\n",
    "total_students = dt.shape[0]\n",
    "female_chemistry_students = dt[(dt['gender'] == 'female') & (dt['major'] == 'Chemistry')].shape[0]\n",
    "proportion_female_chemistry = female_chemistry_students * 100 / total_students\n",
    "print(proportion_female_chemistry, \"%\")"
   ]
  },
  {
   "cell_type": "code",
   "execution_count": 27,
   "metadata": {},
   "outputs": [
    {
     "name": "stdout",
     "output_type": "stream",
     "text": [
      "3.6 %\n"
     ]
    }
   ],
   "source": [
    "# What proportion of male students are majoring in chemistry?\n",
    "male_chemistry_students = dt[(dt['gender'] == 'male') & (dt['major'] == 'Chemistry')].shape[0]\n",
    "proportion_male_chemistry = male_chemistry_students * 100 / total_students\n",
    "print(proportion_male_chemistry, \"%\")"
   ]
  },
  {
   "cell_type": "code",
   "execution_count": 28,
   "metadata": {},
   "outputs": [
    {
     "name": "stdout",
     "output_type": "stream",
     "text": [
      "22.56637168141593 %\n"
     ]
    }
   ],
   "source": [
    "# Admission rate for female chemistry majors\n",
    "female_chemistry_admitted = dt[(dt['gender'] == 'female') & (dt['major'] == 'Chemistry') & (dt['admitted'] == True)].shape[0]\n",
    "admission_rate_female_chemistry = female_chemistry_admitted * 100 / female_chemistry_students\n",
    "print(admission_rate_female_chemistry, \"%\")"
   ]
  },
  {
   "cell_type": "code",
   "execution_count": 29,
   "metadata": {},
   "outputs": [
    {
     "name": "stdout",
     "output_type": "stream",
     "text": [
      "11.11111111111111 %\n"
     ]
    }
   ],
   "source": [
    "# Admission rate for male chemistry majors\n",
    "male_chemistry_admitted = dt[(dt['gender'] == 'male') & (dt['major'] == 'Chemistry') & (dt['admitted'] == True)].shape[0]\n",
    "admission_rate_male_chemistry = male_chemistry_admitted * 100 / male_chemistry_students\n",
    "print(admission_rate_male_chemistry, \"%\")"
   ]
  },
  {
   "cell_type": "markdown",
   "metadata": {},
   "source": [
    "### Admission rate for each major"
   ]
  },
  {
   "cell_type": "code",
   "execution_count": 33,
   "metadata": {},
   "outputs": [
    {
     "name": "stdout",
     "output_type": "stream",
     "text": [
      "54.296875 %\n"
     ]
    }
   ],
   "source": [
    "# Admission rate for physics majors\n",
    "total_physics_students = dt[dt['major'] == 'Physics'].shape[0]\n",
    "physics_admitted = dt[(dt['major'] == 'Physics') & (dt['admitted'] == True)].shape[0]\n",
    "admission_rate_physics = physics_admitted * 100 / total_physics_students\n",
    "print(admission_rate_physics, \"%\")"
   ]
  },
  {
   "cell_type": "code",
   "execution_count": 34,
   "metadata": {},
   "outputs": [
    {
     "name": "stdout",
     "output_type": "stream",
     "text": [
      "21.721311475409838 %\n"
     ]
    }
   ],
   "source": [
    "# Admission rate for chemistry majors\n",
    "total_chemistry_students = dt[dt['major'] == 'Chemistry'].shape[0]\n",
    "chemistry_admitted = dt[(dt['major'] == 'Chemistry') & (dt['admitted'] == True)].shape[0]\n",
    "admission_rate_chemistry = chemistry_admitted * 100 / total_chemistry_students\n",
    "print(admission_rate_chemistry, \"%\")"
   ]
  },
  {
   "cell_type": "markdown",
   "metadata": {},
   "source": [
    "### What are your conclusions?"
   ]
  },
  {
   "cell_type": "markdown",
   "metadata": {},
   "source": [
    "Physics seems to be a more popular major among male students, and the admission rate for female physics majors is higher than for male physics majors. \n",
    "Similarly, chemistry is a more popular major among female students, but the admission rate for female chemistry majors is lower than for male chemistry majors."
   ]
  }
 ],
 "metadata": {
  "kernelspec": {
   "display_name": "Python 3 (ipykernel)",
   "language": "python",
   "name": "python3"
  },
  "language_info": {
   "codemirror_mode": {
    "name": "ipython",
    "version": 3
   },
   "file_extension": ".py",
   "mimetype": "text/x-python",
   "name": "python",
   "nbconvert_exporter": "python",
   "pygments_lexer": "ipython3",
   "version": "3.10.6"
  }
 },
 "nbformat": 4,
 "nbformat_minor": 2
}
