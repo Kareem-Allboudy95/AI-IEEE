{
 "cells": [
  {
   "cell_type": "markdown",
   "metadata": {},
   "source": [
    "# Sales Analysis"
   ]
  },
  {
   "cell_type": "code",
   "execution_count": 1,
   "metadata": {},
   "outputs": [
    {
     "data": {
      "text/html": [
       "<div>\n",
       "<style scoped>\n",
       "    .dataframe tbody tr th:only-of-type {\n",
       "        vertical-align: middle;\n",
       "    }\n",
       "\n",
       "    .dataframe tbody tr th {\n",
       "        vertical-align: top;\n",
       "    }\n",
       "\n",
       "    .dataframe thead th {\n",
       "        text-align: right;\n",
       "    }\n",
       "</style>\n",
       "<table border=\"1\" class=\"dataframe\">\n",
       "  <thead>\n",
       "    <tr style=\"text-align: right;\">\n",
       "      <th></th>\n",
       "      <th>Order ID</th>\n",
       "      <th>Product</th>\n",
       "      <th>Quantity Ordered</th>\n",
       "      <th>Price Each</th>\n",
       "      <th>Order Date</th>\n",
       "      <th>Purchase Address</th>\n",
       "    </tr>\n",
       "  </thead>\n",
       "  <tbody>\n",
       "    <tr>\n",
       "      <th>0</th>\n",
       "      <td>176558</td>\n",
       "      <td>USB-C Charging Cable</td>\n",
       "      <td>2</td>\n",
       "      <td>11.95</td>\n",
       "      <td>04/19/19 08:46</td>\n",
       "      <td>917 1st St, Dallas, TX 75001</td>\n",
       "    </tr>\n",
       "    <tr>\n",
       "      <th>1</th>\n",
       "      <td>NaN</td>\n",
       "      <td>NaN</td>\n",
       "      <td>NaN</td>\n",
       "      <td>NaN</td>\n",
       "      <td>NaN</td>\n",
       "      <td>NaN</td>\n",
       "    </tr>\n",
       "    <tr>\n",
       "      <th>2</th>\n",
       "      <td>176559</td>\n",
       "      <td>Bose SoundSport Headphones</td>\n",
       "      <td>1</td>\n",
       "      <td>99.99</td>\n",
       "      <td>04/07/19 22:30</td>\n",
       "      <td>682 Chestnut St, Boston, MA 02215</td>\n",
       "    </tr>\n",
       "    <tr>\n",
       "      <th>3</th>\n",
       "      <td>176560</td>\n",
       "      <td>Google Phone</td>\n",
       "      <td>1</td>\n",
       "      <td>600</td>\n",
       "      <td>04/12/19 14:38</td>\n",
       "      <td>669 Spruce St, Los Angeles, CA 90001</td>\n",
       "    </tr>\n",
       "    <tr>\n",
       "      <th>4</th>\n",
       "      <td>176560</td>\n",
       "      <td>Wired Headphones</td>\n",
       "      <td>1</td>\n",
       "      <td>11.99</td>\n",
       "      <td>04/12/19 14:38</td>\n",
       "      <td>669 Spruce St, Los Angeles, CA 90001</td>\n",
       "    </tr>\n",
       "  </tbody>\n",
       "</table>\n",
       "</div>"
      ],
      "text/plain": [
       "  Order ID                     Product Quantity Ordered Price Each  \\\n",
       "0   176558        USB-C Charging Cable                2      11.95   \n",
       "1      NaN                         NaN              NaN        NaN   \n",
       "2   176559  Bose SoundSport Headphones                1      99.99   \n",
       "3   176560                Google Phone                1        600   \n",
       "4   176560            Wired Headphones                1      11.99   \n",
       "\n",
       "       Order Date                      Purchase Address  \n",
       "0  04/19/19 08:46          917 1st St, Dallas, TX 75001  \n",
       "1             NaN                                   NaN  \n",
       "2  04/07/19 22:30     682 Chestnut St, Boston, MA 02215  \n",
       "3  04/12/19 14:38  669 Spruce St, Los Angeles, CA 90001  \n",
       "4  04/12/19 14:38  669 Spruce St, Los Angeles, CA 90001  "
      ]
     },
     "execution_count": 1,
     "metadata": {},
     "output_type": "execute_result"
    }
   ],
   "source": [
    "#### Import necessary libraries & read csv file \n",
    "import pandas as pd\n",
    "import numpy as np\n",
    "import matplotlib.pyplot as plt\n",
    "df = pd.read_csv('all_data.csv')\n",
    "df.head()"
   ]
  },
  {
   "cell_type": "markdown",
   "metadata": {},
   "source": [
    "### Clean up the data!\n",
    "The first step in this is figuring out what we need to clean. I have found in practice, that you find things you need to clean as you perform operations and get errors. Based on the error, you decide how you should go about cleaning the data"
   ]
  },
  {
   "cell_type": "markdown",
   "metadata": {},
   "source": [
    "### Drop rows of NAN "
   ]
  },
  {
   "cell_type": "code",
   "execution_count": 2,
   "metadata": {},
   "outputs": [],
   "source": [
    "df = df.dropna()"
   ]
  },
  {
   "cell_type": "markdown",
   "metadata": {},
   "source": [
    "### Get rid of text in \"order date\" column and then convert it into datetime"
   ]
  },
  {
   "cell_type": "code",
   "execution_count": 3,
   "metadata": {},
   "outputs": [
    {
     "name": "stdout",
     "output_type": "stream",
     "text": [
      "Index(['Order ID', 'Product', 'Quantity Ordered', 'Price Each', 'Order Date',\n",
      "       'Purchase Address'],\n",
      "      dtype='object')\n",
      "  Order ID                     Product Quantity Ordered Price Each  \\\n",
      "0   176558        USB-C Charging Cable                2      11.95   \n",
      "2   176559  Bose SoundSport Headphones                1      99.99   \n",
      "3   176560                Google Phone                1        600   \n",
      "4   176560            Wired Headphones                1      11.99   \n",
      "5   176561            Wired Headphones                1      11.99   \n",
      "\n",
      "       Order Date                      Purchase Address  \n",
      "0  04/19/19 08:46          917 1st St, Dallas, TX 75001  \n",
      "2  04/07/19 22:30     682 Chestnut St, Boston, MA 02215  \n",
      "3  04/12/19 14:38  669 Spruce St, Los Angeles, CA 90001  \n",
      "4  04/12/19 14:38  669 Spruce St, Los Angeles, CA 90001  \n",
      "5  04/30/19 09:27     333 8th St, Los Angeles, CA 90001  \n"
     ]
    }
   ],
   "source": [
    "# Check the column names\n",
    "print(df.columns)\n",
    "print(df.head())"
   ]
  },
  {
   "cell_type": "code",
   "execution_count": 4,
   "metadata": {},
   "outputs": [
    {
     "name": "stdout",
     "output_type": "stream",
     "text": [
      "  Order ID                     Product Quantity Ordered Price Each  \\\n",
      "0   176558        USB-C Charging Cable                2      11.95   \n",
      "2   176559  Bose SoundSport Headphones                1      99.99   \n",
      "3   176560                Google Phone                1        600   \n",
      "4   176560            Wired Headphones                1      11.99   \n",
      "5   176561            Wired Headphones                1      11.99   \n",
      "\n",
      "           Order Date                      Purchase Address  \n",
      "0 2019-04-19 08:46:00          917 1st St, Dallas, TX 75001  \n",
      "2 2019-04-07 22:30:00     682 Chestnut St, Boston, MA 02215  \n",
      "3 2019-04-12 14:38:00  669 Spruce St, Los Angeles, CA 90001  \n",
      "4 2019-04-12 14:38:00  669 Spruce St, Los Angeles, CA 90001  \n",
      "5 2019-04-30 09:27:00     333 8th St, Los Angeles, CA 90001  \n"
     ]
    }
   ],
   "source": [
    "# Filter out rows with \"Order Date\"\n",
    "df = df[df['Order Date'] != \"Order Date\"]\n",
    "\n",
    "# Convert 'Order Date' column to datetime format with the specified format\n",
    "df['Order Date'] = pd.to_datetime(df['Order Date'], format='%m/%d/%y %H:%M')\n",
    "\n",
    "# Verify the result\n",
    "print(df.head())\n"
   ]
  },
  {
   "cell_type": "markdown",
   "metadata": {},
   "source": [
    "### Make columns correct type ( By using __\" to_numeric \" __  , Convert the columns with numeric values into           integer or float ) . \n",
    "check this link to know how to use it  https://pandas.pydata.org/docs/reference/api/pandas.to_numeric.html"
   ]
  },
  {
   "cell_type": "code",
   "execution_count": 5,
   "metadata": {},
   "outputs": [
    {
     "name": "stdout",
     "output_type": "stream",
     "text": [
      "Order ID                    object\n",
      "Product                     object\n",
      "Quantity Ordered             int64\n",
      "Price Each                 float64\n",
      "Order Date          datetime64[ns]\n",
      "Purchase Address            object\n",
      "dtype: object\n"
     ]
    }
   ],
   "source": [
    "# Convert columns with numeric values to the correct type\n",
    "df['Quantity Ordered'] = pd.to_numeric(df['Quantity Ordered'])\n",
    "df['Price Each'] = pd.to_numeric(df['Price Each'])\n",
    "\n",
    "# Verify the result\n",
    "print(df.dtypes)\n"
   ]
  },
  {
   "cell_type": "markdown",
   "metadata": {},
   "source": [
    "### Augment data with additional columns"
   ]
  },
  {
   "cell_type": "code",
   "execution_count": 6,
   "metadata": {},
   "outputs": [
    {
     "name": "stdout",
     "output_type": "stream",
     "text": [
      "  Order ID                     Product  Quantity Ordered  Price Each  \\\n",
      "0   176558        USB-C Charging Cable                 2       11.95   \n",
      "2   176559  Bose SoundSport Headphones                 1       99.99   \n",
      "3   176560                Google Phone                 1      600.00   \n",
      "4   176560            Wired Headphones                 1       11.99   \n",
      "5   176561            Wired Headphones                 1       11.99   \n",
      "\n",
      "           Order Date                      Purchase Address  Month  \n",
      "0 2019-04-19 08:46:00          917 1st St, Dallas, TX 75001      4  \n",
      "2 2019-04-07 22:30:00     682 Chestnut St, Boston, MA 02215      4  \n",
      "3 2019-04-12 14:38:00  669 Spruce St, Los Angeles, CA 90001      4  \n",
      "4 2019-04-12 14:38:00  669 Spruce St, Los Angeles, CA 90001      4  \n",
      "5 2019-04-30 09:27:00     333 8th St, Los Angeles, CA 90001      4  \n"
     ]
    }
   ],
   "source": [
    "#### Add month column\n",
    "# Extract month from 'Order Date' and add a 'Month' column\n",
    "df['Month'] = df['Order Date'].dt.month\n",
    "\n",
    "# Verify the result\n",
    "print(df.head())\n"
   ]
  },
  {
   "cell_type": "code",
   "execution_count": 7,
   "metadata": {},
   "outputs": [
    {
     "name": "stdout",
     "output_type": "stream",
     "text": [
      "  Order ID                     Product  Quantity Ordered  Price Each  \\\n",
      "0   176558        USB-C Charging Cable                 2       11.95   \n",
      "2   176559  Bose SoundSport Headphones                 1       99.99   \n",
      "3   176560                Google Phone                 1      600.00   \n",
      "4   176560            Wired Headphones                 1       11.99   \n",
      "5   176561            Wired Headphones                 1       11.99   \n",
      "\n",
      "           Order Date                      Purchase Address  Month  \\\n",
      "0 2019-04-19 08:46:00          917 1st St, Dallas, TX 75001      4   \n",
      "2 2019-04-07 22:30:00     682 Chestnut St, Boston, MA 02215      4   \n",
      "3 2019-04-12 14:38:00  669 Spruce St, Los Angeles, CA 90001      4   \n",
      "4 2019-04-12 14:38:00  669 Spruce St, Los Angeles, CA 90001      4   \n",
      "5 2019-04-30 09:27:00     333 8th St, Los Angeles, CA 90001      4   \n",
      "\n",
      "               City  \n",
      "0       Dallas (TX)  \n",
      "2       Boston (MA)  \n",
      "3  Los Angeles (CA)  \n",
      "4  Los Angeles (CA)  \n",
      "5  Los Angeles (CA)  \n"
     ]
    }
   ],
   "source": [
    "#### Add city column (containing city & state in this columns.) ex: df['City'][0] = 'Dallas (TX)'\n",
    "# Extract city from 'Purchase Address' and add a 'City' column\n",
    "df['City'] = df['Purchase Address'].apply(lambda x: x.split(',')[1].strip() + ' (' + x.split(',')[2].split()[0] + ')')\n",
    "\n",
    "# Verify the result\n",
    "print(df.head())\n"
   ]
  },
  {
   "cell_type": "markdown",
   "metadata": {},
   "source": [
    "## Data Exploration!"
   ]
  },
  {
   "cell_type": "code",
   "execution_count": 8,
   "metadata": {},
   "outputs": [
    {
     "name": "stdout",
     "output_type": "stream",
     "text": [
      "The best month is: 12\n",
      "The earnings is: 4613443.34\n"
     ]
    }
   ],
   "source": [
    "#### Question 1: What was the best month for sales? How much was earned that month?\n",
    "\n",
    "## sales = Quantity_order x price Each\n",
    "\n",
    "# Calculate the sales column\n",
    "df['Sales'] = df['Quantity Ordered'] * df['Price Each']\n",
    "\n",
    "# Group the data by month and calculate the total sales for each month\n",
    "monthly_sales = df.groupby('Month')['Sales'].sum()\n",
    "\n",
    "# Find the best month for sales\n",
    "best_month = monthly_sales.idxmax()\n",
    "total_earnings = monthly_sales.max()\n",
    "\n",
    "# Print the result\n",
    "print(\"The best month is:\", best_month)\n",
    "print(\"The earnings is:\", total_earnings)"
   ]
  },
  {
   "cell_type": "code",
   "execution_count": 9,
   "metadata": {},
   "outputs": [
    {
     "name": "stdout",
     "output_type": "stream",
     "text": [
      "The city that sold the most products was: San Francisco (CA)\n",
      "The total products: 50239\n"
     ]
    }
   ],
   "source": [
    "#### Question 2: What city sold the most product?\n",
    "\n",
    "# Group the data by city and calculate the total quantity ordered for each city\n",
    "city_sales = df.groupby('City')['Quantity Ordered'].sum()\n",
    "\n",
    "# Find the city that sold the most products\n",
    "best_city = city_sales.idxmax()\n",
    "total_products_sold = city_sales.max()\n",
    "\n",
    "# Print the result\n",
    "print(\"The city that sold the most products was:\", best_city)\n",
    "print(\"The total products:\", total_products_sold)\n"
   ]
  },
  {
   "cell_type": "code",
   "execution_count": 10,
   "metadata": {},
   "outputs": [
    {
     "name": "stdout",
     "output_type": "stream",
     "text": [
      "  Order ID                     Product  Quantity Ordered  Price Each  \\\n",
      "0   176558        USB-C Charging Cable                 2       11.95   \n",
      "2   176559  Bose SoundSport Headphones                 1       99.99   \n",
      "3   176560                Google Phone                 1      600.00   \n",
      "4   176560            Wired Headphones                 1       11.99   \n",
      "5   176561            Wired Headphones                 1       11.99   \n",
      "\n",
      "           Order Date                      Purchase Address  Month  \\\n",
      "0 2019-04-19 08:46:00          917 1st St, Dallas, TX 75001      4   \n",
      "2 2019-04-07 22:30:00     682 Chestnut St, Boston, MA 02215      4   \n",
      "3 2019-04-12 14:38:00  669 Spruce St, Los Angeles, CA 90001      4   \n",
      "4 2019-04-12 14:38:00  669 Spruce St, Los Angeles, CA 90001      4   \n",
      "5 2019-04-30 09:27:00     333 8th St, Los Angeles, CA 90001      4   \n",
      "\n",
      "               City   Sales  Hour  \n",
      "0       Dallas (TX)   23.90     8  \n",
      "2       Boston (MA)   99.99    22  \n",
      "3  Los Angeles (CA)  600.00    14  \n",
      "4  Los Angeles (CA)   11.99    14  \n",
      "5  Los Angeles (CA)   11.99     9  \n"
     ]
    }
   ],
   "source": [
    "#### Question 3: What time should we display advertisements to maximize likelihood of customer's buying product?\n",
    "## Step1: Add hour column\n",
    "\n",
    "# Extract hour from 'Order Date' and add an 'Hour' column\n",
    "df['Hour'] = df['Order Date'].dt.hour\n",
    "\n",
    "# Print the result\n",
    "print(df.head())\n"
   ]
  },
  {
   "cell_type": "code",
   "execution_count": 11,
   "metadata": {},
   "outputs": [
    {
     "data": {
      "image/png": "[encoded data removed]",
      "text/plain": [
       "<Figure size 1000x600 with 1 Axes>"
      ]
     },
     "metadata": {},
     "output_type": "display_data"
    }
   ],
   "source": [
    "## Step2: show by using plot , get the most hour which clients make orders\n",
    "\n",
    "# Count the number of orders for each hour\n",
    "order_counts = df['Hour'].value_counts()\n",
    "\n",
    "# Plot the order hours\n",
    "plt.figure(figsize=(10, 6))\n",
    "plt.bar(order_counts.index, order_counts.values)\n",
    "plt.xlabel('Hour of the Day')\n",
    "plt.ylabel('Number of Orders')\n",
    "plt.title('Order Hours Distribution')\n",
    "plt.xticks(range(0, 24))\n",
    "plt.show()"
   ]
  },
  {
   "cell_type": "code",
   "execution_count": 12,
   "metadata": {},
   "outputs": [
    {
     "name": "stdout",
     "output_type": "stream",
     "text": [
      "                     Product Combination  Frequency\n",
      "0       iPhone, Lightning Charging Cable        882\n",
      "1     Google Phone, USB-C Charging Cable        856\n",
      "2               iPhone, Wired Headphones        361\n",
      "3  Vareebadd Phone, USB-C Charging Cable        312\n",
      "4         Google Phone, Wired Headphones        303\n"
     ]
    },
    {
     "name": "stderr",
     "output_type": "stream",
     "text": [
      "C:\\Users\\LEGION\\AppData\\Local\\Temp\\ipykernel_13584\\126554910.py:8: SettingWithCopyWarning: \n",
      "A value is trying to be set on a copy of a slice from a DataFrame.\n",
      "Try using .loc[row_indexer,col_indexer] = value instead\n",
      "\n",
      "See the caveats in the documentation: https://pandas.pydata.org/pandas-docs/stable/user_guide/indexing.html#returning-a-view-versus-a-copy\n",
      "  duplicate_orders['Grouped Products'] = duplicate_orders.groupby('Order ID')['Product'].transform(lambda x: ', '.join(x))\n"
     ]
    }
   ],
   "source": [
    "#### Question 4: What products are most often sold together?\n",
    "\n",
    "\n",
    "# Create a new DataFrame with duplicate 'Order ID' values\n",
    "duplicate_orders = df[df['Order ID'].duplicated(keep=False)]\n",
    "\n",
    "# Group the duplicate orders by 'Order ID' and concatenate the products\n",
    "duplicate_orders['Grouped Products'] = duplicate_orders.groupby('Order ID')['Product'].transform(lambda x: ', '.join(x))\n",
    "\n",
    "# Drop duplicate rows to keep only unique order combinations\n",
    "duplicate_orders = duplicate_orders[['Order ID', 'Grouped Products']].drop_duplicates()\n",
    "\n",
    "# Count the occurrence of each product combination\n",
    "product_combinations = duplicate_orders['Grouped Products'].value_counts().reset_index()\n",
    "\n",
    "# Rename the columns for better interpretation\n",
    "product_combinations.columns = ['Product Combination', 'Frequency']\n",
    "\n",
    "# Print the top 5 most frequently sold product combinations\n",
    "top_combinations = product_combinations.head(5)\n",
    "print(top_combinations)\n"
   ]
  },
  {
   "cell_type": "code",
   "execution_count": 13,
   "metadata": {},
   "outputs": [
    {
     "name": "stdout",
     "output_type": "stream",
     "text": [
      "The product that sold the most was AAA Batteries (4-pack) with a total of 31017 units sold.\n"
     ]
    }
   ],
   "source": [
    "#### What product sold the most? Why do you think it sold the most?\n",
    "\n",
    "# Calculate the total quantity sold for each product\n",
    "product_sales = df.groupby('Product')['Quantity Ordered'].sum()\n",
    "\n",
    "# Find the product that sold the most\n",
    "best_product = product_sales.idxmax()\n",
    "total_quantity_sold = product_sales.max()\n",
    "\n",
    "# Print the result\n",
    "print(\"The product that sold the most was\", best_product, \"with a total of\", total_quantity_sold, \"units sold.\")\n"
   ]
  }
 ],
 "metadata": {
  "kernelspec": {
   "display_name": "Python 3 (ipykernel)",
   "language": "python",
   "name": "python3"
  },
  "language_info": {
   "codemirror_mode": {
    "name": "ipython",
    "version": 3
   },
   "file_extension": ".py",
   "mimetype": "text/x-python",
   "name": "python",
   "nbconvert_exporter": "python",
   "pygments_lexer": "ipython3",
   "version": "3.11.3"
  }
 },
 "nbformat": 4,
 "nbformat_minor": 2
}
