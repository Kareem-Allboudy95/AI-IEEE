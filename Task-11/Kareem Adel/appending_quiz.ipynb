{
 "cells": [
  {
   "cell_type": "markdown",
   "metadata": {},
   "source": [
    "# Appending Data\n",
    "First, import the necessary packages and load `winequality-red.csv` and `winequality-white.csv`."
   ]
  },
  {
   "cell_type": "code",
   "execution_count": 2,
   "metadata": {},
   "outputs": [],
   "source": [
    "# import numpy and pandas\n",
    "import numpy as np\n",
    "import pandas as pd\n",
    "# load red and white wine datasets\n",
    "red_wine = pd.read_csv('winequality-red.csv', delimiter=';')\n",
    "white_wine = pd.read_csv('winequality-white.csv', delimiter=';')"
   ]
  },
  {
   "cell_type": "markdown",
   "metadata": {},
   "source": [
    "## Create Color Columns\n",
    "Create two arrays as long as the number of rows in the red and white dataframes that repeat the value “red” or “white.” NumPy offers really easy way to do this. Here’s the documentation for [NumPy’s repeat](https://docs.scipy.org/doc/numpy/reference/generated/numpy.repeat.html) function. Take a look and try it yourself."
   ]
  },
  {
   "cell_type": "code",
   "execution_count": 3,
   "metadata": {},
   "outputs": [],
   "source": [
    "# create color array for red dataframe\n",
    "red_color = np.repeat('red', red_wine.shape[0])\n",
    "# create color array for white dataframe\n",
    "white_color = np.repeat('white', white_wine.shape[0])"
   ]
  },
  {
   "cell_type": "markdown",
   "metadata": {},
   "source": [
    "Add arrays to the red and white dataframes. Do this by setting a new column called 'color' to the appropriate array."
   ]
  },
  {
   "cell_type": "code",
   "execution_count": 4,
   "metadata": {
    "scrolled": true
   },
   "outputs": [],
   "source": [
    "red_wine['color'] = red_color\n",
    "white_wine['color'] = white_color"
   ]
  },
  {
   "cell_type": "markdown",
   "metadata": {},
   "source": [
    "Do the same for the white dataframe and use `head()` to confirm the change."
   ]
  },
  {
   "cell_type": "code",
   "execution_count": 5,
   "metadata": {},
   "outputs": [
    {
     "name": "stdout",
     "output_type": "stream",
     "text": [
      "   fixed_acidity  volatile_acidity  citric_acid  residual_sugar  chlorides  \\\n",
      "0            7.0              0.27         0.36            20.7      0.045   \n",
      "1            6.3              0.30         0.34             1.6      0.049   \n",
      "2            8.1              0.28         0.40             6.9      0.050   \n",
      "3            7.2              0.23         0.32             8.5      0.058   \n",
      "4            7.2              0.23         0.32             8.5      0.058   \n",
      "\n",
      "   free_sulfur_dioxide  total_sulfur_dioxide  density    pH  sulphates  \\\n",
      "0                 45.0                 170.0   1.0010  3.00       0.45   \n",
      "1                 14.0                 132.0   0.9940  3.30       0.49   \n",
      "2                 30.0                  97.0   0.9951  3.26       0.44   \n",
      "3                 47.0                 186.0   0.9956  3.19       0.40   \n",
      "4                 47.0                 186.0   0.9956  3.19       0.40   \n",
      "\n",
      "   alcohol  quality  color  \n",
      "0      8.8        6  white  \n",
      "1      9.5        6  white  \n",
      "2     10.1        6  white  \n",
      "3      9.9        6  white  \n",
      "4      9.9        6  white  \n"
     ]
    }
   ],
   "source": [
    "print(white_wine.head())"
   ]
  },
  {
   "cell_type": "markdown",
   "metadata": {},
   "source": [
    "## Combine DataFrames with Append\n",
    "Check the documentation for [Pandas' append](https://pandas.pydata.org/pandas-docs/stable/generated/pandas.DataFrame.append.html) function and see if you can use this to figure out how to combine the dataframes."
   ]
  },
  {
   "cell_type": "code",
   "execution_count": 6,
   "metadata": {},
   "outputs": [
    {
     "name": "stdout",
     "output_type": "stream",
     "text": [
      "   fixed_acidity_red  volatile_acidity_red  citric_acid_red  \\\n",
      "0                7.4                  0.70             0.00   \n",
      "1                7.8                  0.88             0.00   \n",
      "2                7.8                  0.76             0.04   \n",
      "3               11.2                  0.28             0.56   \n",
      "4                7.4                  0.70             0.00   \n",
      "\n",
      "   residual_sugar_red  chlorides_red  free_sulfur_dioxide_red  \\\n",
      "0                 1.9          0.076                     11.0   \n",
      "1                 2.6          0.098                     25.0   \n",
      "2                 2.3          0.092                     15.0   \n",
      "3                 1.9          0.075                     17.0   \n",
      "4                 1.9          0.076                     11.0   \n",
      "\n",
      "   total_sulfur-dioxide  density_red  pH_red  sulphates_red  ...  \\\n",
      "0                  34.0       0.9978    3.51           0.56  ...   \n",
      "1                  67.0       0.9968    3.20           0.68  ...   \n",
      "2                  54.0       0.9970    3.26           0.65  ...   \n",
      "3                  60.0       0.9980    3.16           0.58  ...   \n",
      "4                  34.0       0.9978    3.51           0.56  ...   \n",
      "\n",
      "   residual_sugar_white  chlorides_white free_sulfur_dioxide_white  \\\n",
      "0                  20.7            0.045                      45.0   \n",
      "1                   1.6            0.049                      14.0   \n",
      "2                   6.9            0.050                      30.0   \n",
      "3                   8.5            0.058                      47.0   \n",
      "4                   8.5            0.058                      47.0   \n",
      "\n",
      "   total_sulfur_dioxide  density_white  pH_white  sulphates_white  \\\n",
      "0                 170.0         1.0010      3.00             0.45   \n",
      "1                 132.0         0.9940      3.30             0.49   \n",
      "2                  97.0         0.9951      3.26             0.44   \n",
      "3                 186.0         0.9956      3.19             0.40   \n",
      "4                 186.0         0.9956      3.19             0.40   \n",
      "\n",
      "   alcohol_white  quality_white  color_white  \n",
      "0            8.8              6        white  \n",
      "1            9.5              6        white  \n",
      "2           10.1              6        white  \n",
      "3            9.9              6        white  \n",
      "4            9.9              6        white  \n",
      "\n",
      "[5 rows x 26 columns]\n"
     ]
    },
    {
     "name": "stderr",
     "output_type": "stream",
     "text": [
      "C:\\Users\\LEGION\\AppData\\Local\\Temp\\ipykernel_1984\\124798025.py:6: FutureWarning: The frame.append method is deprecated and will be removed from pandas in a future version. Use pandas.concat instead.\n",
      "  wine = red_wine.append(white_wine, ignore_index=True)\n"
     ]
    }
   ],
   "source": [
    "# append the dataframes  (There are 3 ways to do this, can you use them all ?)\n",
    "# Way 1: Using concat\n",
    "wine = pd.concat([red_wine, white_wine], ignore_index=True)\n",
    "\n",
    "# Way 2: Using append\n",
    "wine = red_wine.append(white_wine, ignore_index=True)\n",
    "\n",
    "# Way 3: Using join\n",
    "wine = red_wine.join(white_wine, lsuffix='_red', rsuffix='_white')\n",
    "# view dataframe to check for success\n",
    "print(wine.head())"
   ]
  },
  {
   "cell_type": "markdown",
   "metadata": {},
   "source": [
    "## Scroll to right, you will find a column filled with NaN values. Go watch the next video and get back here to solve the problem (This is necessary for the next tasks !!)"
   ]
  },
  {
   "cell_type": "code",
   "execution_count": 7,
   "metadata": {},
   "outputs": [],
   "source": [
    "# fix column names (do not use the usual solution we used earlier in the previous tasks)\n",
    "wine = wine.rename(columns={'total_sulfur-dioxide': 'total_sulfur_dioxide'})\n",
    "# merge the two datasets again after fixing the issue (keep the color column)\n",
    "wine = pd.concat([red_wine, white_wine], ignore_index=True)"
   ]
  },
  {
   "cell_type": "code",
   "execution_count": 8,
   "metadata": {},
   "outputs": [
    {
     "name": "stdout",
     "output_type": "stream",
     "text": [
      "   fixed_acidity  volatile_acidity  citric_acid  residual_sugar  chlorides  \\\n",
      "0            7.4              0.70         0.00             1.9      0.076   \n",
      "1            7.8              0.88         0.00             2.6      0.098   \n",
      "2            7.8              0.76         0.04             2.3      0.092   \n",
      "3           11.2              0.28         0.56             1.9      0.075   \n",
      "4            7.4              0.70         0.00             1.9      0.076   \n",
      "\n",
      "   free_sulfur_dioxide  total_sulfur-dioxide  density    pH  sulphates  \\\n",
      "0                 11.0                  34.0   0.9978  3.51       0.56   \n",
      "1                 25.0                  67.0   0.9968  3.20       0.68   \n",
      "2                 15.0                  54.0   0.9970  3.26       0.65   \n",
      "3                 17.0                  60.0   0.9980  3.16       0.58   \n",
      "4                 11.0                  34.0   0.9978  3.51       0.56   \n",
      "\n",
      "   alcohol  quality color  total_sulfur_dioxide  \n",
      "0      9.4        5   red                   NaN  \n",
      "1      9.8        5   red                   NaN  \n",
      "2      9.8        5   red                   NaN  \n",
      "3      9.8        6   red                   NaN  \n",
      "4      9.4        5   red                   NaN  \n"
     ]
    }
   ],
   "source": [
    "# Confirm your changes\n",
    "print(wine.head())"
   ]
  },
  {
   "cell_type": "markdown",
   "metadata": {},
   "source": [
    "## Save Combined Dataset\n",
    "Save your newly combined dataframe as `winequality_edited.csv`. Remember, set `index=False` to avoid saving with an unnamed column!"
   ]
  },
  {
   "cell_type": "code",
   "execution_count": 9,
   "metadata": {},
   "outputs": [],
   "source": [
    "# save the dataframe\n",
    "wine.to_csv('winequality_edited.csv', index=False)"
   ]
  },
  {
   "cell_type": "code",
   "execution_count": 10,
   "metadata": {},
   "outputs": [
    {
     "name": "stdout",
     "output_type": "stream",
     "text": [
      "6497\n",
      "14\n"
     ]
    }
   ],
   "source": [
    "# How many samples are there in the newely saved dataframe?___________6497\n",
    "print(wine.shape[0])\n",
    "# How many columns are there?___________14\n",
    "print(wine.shape[1])"
   ]
  }
 ],
 "metadata": {
  "kernelspec": {
   "display_name": "Python 3 (ipykernel)",
   "language": "python",
   "name": "python3"
  },
  "language_info": {
   "codemirror_mode": {
    "name": "ipython",
    "version": 3
   },
   "file_extension": ".py",
   "mimetype": "text/x-python",
   "name": "python",
   "nbconvert_exporter": "python",
   "pygments_lexer": "ipython3",
   "version": "3.10.10"
  }
 },
 "nbformat": 4,
 "nbformat_minor": 2
}
