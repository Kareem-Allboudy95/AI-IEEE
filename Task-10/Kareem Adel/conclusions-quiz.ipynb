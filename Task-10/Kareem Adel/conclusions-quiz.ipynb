{
 "cells": [
  {
   "cell_type": "markdown",
   "metadata": {},
   "source": [
    "# Drawing Conclusions Quiz\n",
    "Use the space below to explore `store_data.csv` to answer the quiz questions below."
   ]
  },
  {
   "cell_type": "code",
   "execution_count": null,
   "metadata": {},
   "outputs": [],
   "source": [
    "# Do your analysis and answer the following (type your answers !! do not throw the code in there and submit the file)\n",
    "\n",
    "# Which store has the highest total sales for the final month of data? ---------storeA\n",
    "# Which store makes the most sales on average? -----------storeB\n",
    "# Which store sells the most during the week of March 13th, 2016? ---------storeD\n",
    "# In what week does store C make its worst sales? ---------- 2014-07-06\n",
    "# Which store has the most sales in the latest 3-month period? -----------storeA \n",
    "# What is the most consistent store in sales ? ------------- storeD\n",
    "# Given the information you gathered, what do you think is the best store financially? ------------"
   ]
  },
  {
   "cell_type": "code",
   "execution_count": 7,
   "metadata": {},
   "outputs": [],
   "source": [
    "# import and load the data\n",
    "import pandas as pd\n",
    "from datetime import datetime, timedelta\n",
    "df = pd.read_csv('store_data.csv')"
   ]
  },
  {
   "cell_type": "code",
   "execution_count": 4,
   "metadata": {},
   "outputs": [
    {
     "name": "stdout",
     "output_type": "stream",
     "text": [
      "         week  storeA  storeB  storeC  storeD  storeE\n",
      "0  2014-05-04    2643    8257    3893    6231    1294\n",
      "1  2014-05-11    6444    5736    5634    7092    2907\n",
      "2  2014-05-18    9646    2552    4253    5447    4736\n",
      "3  2014-05-25    5960   10740    8264    6063     949\n",
      "4  2014-06-01    7412    7374    3208    3985    3023\n",
      "---------------------------------------------------------------------------------------------------------\n",
      "<class 'pandas.core.frame.DataFrame'>\n",
      "RangeIndex: 200 entries, 0 to 199\n",
      "Data columns (total 6 columns):\n",
      " #   Column  Non-Null Count  Dtype \n",
      "---  ------  --------------  ----- \n",
      " 0   week    200 non-null    object\n",
      " 1   storeA  200 non-null    int64 \n",
      " 2   storeB  200 non-null    int64 \n",
      " 3   storeC  200 non-null    int64 \n",
      " 4   storeD  200 non-null    int64 \n",
      " 5   storeE  200 non-null    int64 \n",
      "dtypes: int64(5), object(1)\n",
      "memory usage: 9.5+ KB\n",
      "None\n",
      "---------------------------------------------------------------------------------------------------------\n",
      "             storeA        storeB       storeC       storeD       storeE\n",
      "count    200.000000    200.000000   200.000000   200.000000   200.000000\n",
      "mean    5865.480000   6756.710000  4942.105000  5431.405000  2580.025000\n",
      "std     2958.230318   3601.339489  1325.407768  1183.111323  1725.651381\n",
      "min      137.000000     14.000000   927.000000  2276.000000    39.000000\n",
      "25%     3812.250000   3884.500000  4053.500000  4717.000000  1235.000000\n",
      "50%     5713.500000   6771.000000  4962.500000  5382.000000  2522.000000\n",
      "75%     7662.250000   9350.500000  5801.750000  6243.750000  3574.250000\n",
      "max    14403.000000  15841.000000  8293.000000  8190.000000  7553.000000\n"
     ]
    }
   ],
   "source": [
    "# explore the data (gather as much information as you can)\n",
    "print(df.head())\n",
    "print('---------------------------------------------------------------------------------------------------------')\n",
    "#  OR\n",
    "print(df.info())\n",
    "print('---------------------------------------------------------------------------------------------------------')\n",
    "#  OR\n",
    "print(df.describe())"
   ]
  },
  {
   "cell_type": "code",
   "execution_count": 5,
   "metadata": {},
   "outputs": [
    {
     "name": "stdout",
     "output_type": "stream",
     "text": [
      "week      False\n",
      "storeA    False\n",
      "storeB    False\n",
      "storeC    False\n",
      "storeD    False\n",
      "storeE    False\n",
      "dtype: bool\n",
      "---------------------------------------------------------------------------------------------------------\n",
      "week      0\n",
      "storeA    0\n",
      "storeB    0\n",
      "storeC    0\n",
      "storeD    0\n",
      "storeE    0\n",
      "dtype: int64\n"
     ]
    }
   ],
   "source": [
    "# clean the data\n",
    "print(df.isnull().any())\n",
    "print('---------------------------------------------------------------------------------------------------------')\n",
    "#  OR\n",
    "print(df.isna().sum())"
   ]
  },
  {
   "cell_type": "code",
   "execution_count": 11,
   "metadata": {},
   "outputs": [
    {
     "name": "stdout",
     "output_type": "stream",
     "text": [
      "2018-02-25 00:00:00\n",
      "428795\n"
     ]
    }
   ],
   "source": [
    "# total sales for the last month\n",
    "df['week'] = pd.to_datetime(df['week'])\n",
    "latest_date = df['week'].max()\n",
    "print(latest_date)\n",
    "last_month_sales = df.loc[df['week'].dt.month == 12, :].sum(numeric_only=True).sum()\n",
    "print(last_month_sales)"
   ]
  },
  {
   "cell_type": "code",
   "execution_count": 13,
   "metadata": {},
   "outputs": [
    {
     "name": "stdout",
     "output_type": "stream",
     "text": [
      "storeA    5865.480\n",
      "storeB    6756.710\n",
      "storeC    4942.105\n",
      "storeD    5431.405\n",
      "storeE    2580.025\n",
      "dtype: float64\n",
      "---------------------\n",
      "5115.1449999999995\n"
     ]
    },
    {
     "name": "stderr",
     "output_type": "stream",
     "text": [
      "C:\\Users\\LEGION\\AppData\\Local\\Temp\\ipykernel_13136\\1152812930.py:2: FutureWarning: DataFrame.mean and DataFrame.median with numeric_only=None will include datetime64 and datetime64tz columns in a future version.\n",
      "  store_means = df.mean()\n"
     ]
    }
   ],
   "source": [
    "# average sales\n",
    "store_means = df.mean()\n",
    "overall_mean = store_means.mean()\n",
    "print(store_means)                             # average sales for each store\n",
    "print('---------------------')\n",
    "print(overall_mean)                           # overall average sales"
   ]
  },
  {
   "cell_type": "code",
   "execution_count": 14,
   "metadata": {},
   "outputs": [
    {
     "data": {
      "text/plain": [
       "16605"
      ]
     },
     "execution_count": 14,
     "metadata": {},
     "output_type": "execute_result"
    }
   ],
   "source": [
    "# sales on march 13, 2016\n",
    "df.loc[df['week'] == '2016-03-13', ['storeA', 'storeB', 'storeC', 'storeD', 'storeE']].sum().sum()"
   ]
  },
  {
   "cell_type": "code",
   "execution_count": 15,
   "metadata": {},
   "outputs": [
    {
     "name": "stdout",
     "output_type": "stream",
     "text": [
      "2014-07-06 00:00:00\n"
     ]
    },
    {
     "name": "stderr",
     "output_type": "stream",
     "text": [
      "C:\\Users\\LEGION\\AppData\\Local\\Temp\\ipykernel_13136\\699419060.py:3: SettingWithCopyWarning: \n",
      "A value is trying to be set on a copy of a slice from a DataFrame.\n",
      "Try using .loc[row_indexer,col_indexer] = value instead\n",
      "\n",
      "See the caveats in the documentation: https://pandas.pydata.org/pandas-docs/stable/user_guide/indexing.html#returning-a-view-versus-a-copy\n",
      "  storeC_sales['total_sales'] = storeC_sales['storeC']\n"
     ]
    }
   ],
   "source": [
    "# worst week for store C\n",
    "storeC_sales = df[['week', 'storeC']]\n",
    "storeC_sales['total_sales'] = storeC_sales['storeC']\n",
    "worst_week = storeC_sales.loc[storeC_sales['storeC'].idxmin(), 'week']\n",
    "print(worst_week)"
   ]
  },
  {
   "cell_type": "code",
   "execution_count": 17,
   "metadata": {
    "scrolled": false
   },
   "outputs": [
    {
     "name": "stdout",
     "output_type": "stream",
     "text": [
      "361293\n"
     ]
    }
   ],
   "source": [
    "# total sales during most recent 3 month period\n",
    "latest_date = df['week'].max()\n",
    "start_date = latest_date - pd.DateOffset(months=3)\n",
    "recent_sales = df.loc[(df['week'] >= start_date) & (df['week'] <= latest_date), :].sum(numeric_only=True).sum()\n",
    "print(recent_sales)\n"
   ]
  },
  {
   "cell_type": "code",
   "execution_count": 18,
   "metadata": {},
   "outputs": [],
   "source": [
    "# Go back to the top and answer the questions"
   ]
  },
  {
   "cell_type": "code",
   "execution_count": 19,
   "metadata": {},
   "outputs": [
    {
     "name": "stdout",
     "output_type": "stream",
     "text": [
      "storeA    115686\n",
      "storeB     97272\n",
      "storeC     90668\n",
      "storeD     87897\n",
      "storeE     37272\n",
      "dtype: int64\n",
      "storeA\n"
     ]
    }
   ],
   "source": [
    "df['week'] = pd.to_datetime(df['week'])\n",
    "last_month_sales = df.loc[df['week'].dt.month == 12, :]\n",
    "total_sales = last_month_sales.sum(numeric_only=True)\n",
    "print(total_sales)\n",
    "highest_sales_store = total_sales.idxmax()\n",
    "print(highest_sales_store)"
   ]
  },
  {
   "cell_type": "code",
   "execution_count": 20,
   "metadata": {},
   "outputs": [
    {
     "name": "stderr",
     "output_type": "stream",
     "text": [
      "C:\\Users\\LEGION\\AppData\\Local\\Temp\\ipykernel_13136\\1676938904.py:1: FutureWarning: DataFrame.mean and DataFrame.median with numeric_only=None will include datetime64 and datetime64tz columns in a future version.\n",
      "  df.mean().sort_values(ascending=False)\n"
     ]
    },
    {
     "data": {
      "text/plain": [
       "storeB    6756.710\n",
       "storeA    5865.480\n",
       "storeD    5431.405\n",
       "storeC    4942.105\n",
       "storeE    2580.025\n",
       "dtype: float64"
      ]
     },
     "execution_count": 20,
     "metadata": {},
     "output_type": "execute_result"
    }
   ],
   "source": [
    "df.mean().sort_values(ascending=False)"
   ]
  },
  {
   "cell_type": "code",
   "execution_count": 22,
   "metadata": {},
   "outputs": [
    {
     "name": "stdout",
     "output_type": "stream",
     "text": [
      "storeD\n"
     ]
    }
   ],
   "source": [
    "# convert week column to datetime\n",
    "df['week'] = pd.to_datetime(df['week'])\n",
    "\n",
    "# filter data for the week of March 13th, 2016\n",
    "week_sales = df.loc[df['week'] == '2016-03-13', :]\n",
    "\n",
    "# find the store with the highest sales for that week\n",
    "top_store = week_sales.iloc[:, 1:].sum().idxmax()\n",
    "\n",
    "print(top_store)\n"
   ]
  },
  {
   "cell_type": "code",
   "execution_count": 25,
   "metadata": {},
   "outputs": [
    {
     "name": "stdout",
     "output_type": "stream",
     "text": [
      "2014-07-06T00:00:00.000000000\n"
     ]
    }
   ],
   "source": [
    "worst_week_C = df.loc[df['storeC'] == df['storeC'].min(), 'week'].values[0]\n",
    "print(worst_week_C)\n"
   ]
  },
  {
   "cell_type": "code",
   "execution_count": 26,
   "metadata": {},
   "outputs": [
    {
     "name": "stdout",
     "output_type": "stream",
     "text": [
      "storeA    94457\n",
      "storeB    84405\n",
      "storeC    71939\n",
      "storeD    79926\n",
      "storeE    30566\n",
      "dtype: int64\n"
     ]
    }
   ],
   "source": [
    "from dateutil.relativedelta import relativedelta\n",
    "\n",
    "start_date = latest_date - relativedelta(months=3)\n",
    "latest_sales = df.loc[(df['week'] >= start_date) & (df['week'] <= latest_date), :]\n",
    "total_sales = latest_sales.sum(numeric_only=True)\n",
    "print(total_sales)\n"
   ]
  },
  {
   "cell_type": "code",
   "execution_count": 27,
   "metadata": {},
   "outputs": [
    {
     "name": "stdout",
     "output_type": "stream",
     "text": [
      "storeA    2958.230318\n",
      "storeB    3601.339489\n",
      "storeC    1325.407768\n",
      "storeD    1183.111323\n",
      "storeE    1725.651381\n",
      "dtype: float64\n"
     ]
    }
   ],
   "source": [
    "df.set_index('week', inplace=True)\n",
    "std_sales = df.std(axis=0, numeric_only=True)\n",
    "print(std_sales)"
   ]
  },
  {
   "cell_type": "code",
   "execution_count": null,
   "metadata": {},
   "outputs": [],
   "source": []
  }
 ],
 "metadata": {
  "kernelspec": {
   "display_name": "Python 3 (ipykernel)",
   "language": "python",
   "name": "python3"
  },
  "language_info": {
   "codemirror_mode": {
    "name": "ipython",
    "version": 3
   },
   "file_extension": ".py",
   "mimetype": "text/x-python",
   "name": "python",
   "nbconvert_exporter": "python",
   "pygments_lexer": "ipython3",
   "version": "3.10.10"
  }
 },
 "nbformat": 4,
 "nbformat_minor": 2
}
