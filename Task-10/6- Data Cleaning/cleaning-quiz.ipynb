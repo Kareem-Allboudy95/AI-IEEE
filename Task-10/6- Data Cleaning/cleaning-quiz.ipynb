{
 "cells": [
  {
   "cell_type": "markdown",
   "metadata": {},
   "source": [
    "# Cleaning Practice\n",
    "Let's first practice handling missing values and duplicate data using the `cancer_data_means.csv` file."
   ]
  },
  {
   "cell_type": "code",
   "execution_count": 9,
   "metadata": {},
   "outputs": [
    {
     "name": "stdout",
     "output_type": "stream",
     "text": [
      "id                        False\n",
      "diagnosis                 False\n",
      "radius_mean               False\n",
      "texture_mean               True\n",
      "perimeter_mean            False\n",
      "area_mean                 False\n",
      "smoothness_mean            True\n",
      "compactness_mean          False\n",
      "concavity_mean            False\n",
      "concave_points_mean       False\n",
      "symmetry_mean              True\n",
      "fractal_dimension_mean    False\n",
      "dtype: bool\n"
     ]
    }
   ],
   "source": [
    "# import pandas and load cancer data\n",
    "import pandas as pd\n",
    "df = pd.read_csv('cancer_data_means.csv')\n",
    "# check which columns have missing values\n",
    "print(df.isnull().any())"
   ]
  },
  {
   "cell_type": "code",
   "execution_count": 11,
   "metadata": {},
   "outputs": [
    {
     "name": "stdout",
     "output_type": "stream",
     "text": [
      "None\n",
      "-------------------------------------\n",
      "id                        False\n",
      "diagnosis                 False\n",
      "radius_mean               False\n",
      "texture_mean              False\n",
      "perimeter_mean            False\n",
      "area_mean                 False\n",
      "smoothness_mean           False\n",
      "compactness_mean          False\n",
      "concavity_mean            False\n",
      "concave_points_mean       False\n",
      "symmetry_mean             False\n",
      "fractal_dimension_mean    False\n",
      "dtype: bool\n"
     ]
    },
    {
     "name": "stderr",
     "output_type": "stream",
     "text": [
      "C:\\Users\\LEGION\\AppData\\Local\\Temp\\ipykernel_10004\\3017831502.py:2: FutureWarning: The default value of numeric_only in DataFrame.mean is deprecated. In a future version, it will default to False. In addition, specifying 'numeric_only=None' is deprecated. Select only valid columns or specify the value of numeric_only to silence this warning.\n",
      "  print(df.fillna(df.mean(), inplace=True))\n"
     ]
    }
   ],
   "source": [
    "# use the mean to fill in missing values\n",
    "print(df.fillna(df.mean(), inplace=True))\n",
    "print('-------------------------------------')\n",
    "# confirm your correction \n",
    "print(df.isnull().any())"
   ]
  },
  {
   "cell_type": "code",
   "execution_count": 12,
   "metadata": {},
   "outputs": [
    {
     "name": "stdout",
     "output_type": "stream",
     "text": [
      "5\n"
     ]
    }
   ],
   "source": [
    "# how many duplicates are there ?\n",
    "print(df.duplicated().sum())"
   ]
  },
  {
   "cell_type": "code",
   "execution_count": 13,
   "metadata": {},
   "outputs": [],
   "source": [
    "# drop duplicates\n",
    "df.drop_duplicates(inplace=True)"
   ]
  },
  {
   "cell_type": "code",
   "execution_count": 14,
   "metadata": {},
   "outputs": [
    {
     "name": "stdout",
     "output_type": "stream",
     "text": [
      "0\n"
     ]
    }
   ],
   "source": [
    "# confirm correction by rechecking for duplicates in the data\n",
    "print(df.duplicated().sum())"
   ]
  },
  {
   "cell_type": "markdown",
   "metadata": {},
   "source": [
    "## Renaming Columns\n",
    "Since we also previously changed our dataset to only include means of tumor features, the \"_mean\" at the end of each feature seems unnecessary. It just takes extra time to type in our analysis later. Rename the columns of the dataframe to remove \"_mean\"."
   ]
  },
  {
   "cell_type": "code",
   "execution_count": 15,
   "metadata": {},
   "outputs": [],
   "source": [
    "# rename the columns of the dataframe (remove _mean from the name of each column if found)\n",
    "df.rename(columns=lambda x: x.replace(\"_mean\", \"\"), inplace=True)"
   ]
  },
  {
   "cell_type": "code",
   "execution_count": 16,
   "metadata": {
    "scrolled": false
   },
   "outputs": [
    {
     "name": "stdout",
     "output_type": "stream",
     "text": [
      "         id diagnosis  radius    texture  perimeter    area  smoothness  \\\n",
      "0    842302         M   17.99  19.293431     122.80  1001.0    0.118400   \n",
      "1    842517         M   20.57  17.770000     132.90  1326.0    0.084740   \n",
      "2  84300903         M   19.69  21.250000     130.00  1203.0    0.109600   \n",
      "3  84348301         M   11.42  20.380000      77.58   386.1    0.096087   \n",
      "4  84358402         M   20.29  14.340000     135.10  1297.0    0.100300   \n",
      "\n",
      "   compactness  concavity  concave_points  symmetry  fractal_dimension  \n",
      "0      0.27760     0.3001         0.14710    0.2419            0.07871  \n",
      "1      0.07864     0.0869         0.07017    0.1812            0.05667  \n",
      "2      0.15990     0.1974         0.12790    0.2069            0.05999  \n",
      "3      0.28390     0.2414         0.10520    0.2597            0.09744  \n",
      "4      0.13280     0.1980         0.10430    0.1809            0.05883  \n"
     ]
    }
   ],
   "source": [
    "# display first few rows of the dataframe to confirm changes\n",
    "print(df.head())"
   ]
  },
  {
   "cell_type": "code",
   "execution_count": 17,
   "metadata": {},
   "outputs": [],
   "source": [
    "# save this for later as a csv file named \"cancer_data_edited.csv\" and set indexing to false (why ??)\n",
    "df.to_csv(\"cancer_data_edited.csv\", index=False)"
   ]
  }
 ],
 "metadata": {
  "kernelspec": {
   "display_name": "Python 3 (ipykernel)",
   "language": "python",
   "name": "python3"
  },
  "language_info": {
   "codemirror_mode": {
    "name": "ipython",
    "version": 3
   },
   "file_extension": ".py",
   "mimetype": "text/x-python",
   "name": "python",
   "nbconvert_exporter": "python",
   "pygments_lexer": "ipython3",
   "version": "3.10.10"
  }
 },
 "nbformat": 4,
 "nbformat_minor": 2
}
